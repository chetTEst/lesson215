{
 "cells": [
  {
   "cell_type": "markdown",
   "id": "4f716da2-21f7-40da-ae59-4f0aba0d946f",
   "metadata": {},
   "source": [
    "## Пример 1: Антивирусное программное обеспечение"
   ]
  },
  {
   "cell_type": "markdown",
   "id": "f6b8a7bd-79b6-43f6-aa5e-80340a9da995",
   "metadata": {},
   "source": [
    "Пример адаптивной антивирусной системы на **Python** предполагает моделирование процесса использования _машинного обучения_ для обнаружения потенциально ___вредоносных файлов___ на основе моделей поведения, а не только на основе известных *вирусных сигнатур*. Этот пример будет представлять собой базовую демонстрацию с использованием _синтетических данных_."
   ]
  },
  {
   "cell_type": "markdown",
   "id": "9bbc5202-7924-48c9-9030-cc19cadd3be8",
   "metadata": {},
   "source": [
    "### Шаг 1: Импорт библиотек и создание необходимых инструментов"
   ]
  },
  {
   "cell_type": "code",
   "execution_count": null,
   "id": "f895a654-ce75-4dc6-b935-d86c0c24a0b8",
   "metadata": {},
   "outputs": [],
   "source": [
    "import numpy as np # Библиотека для работы с данными\n",
    "import pandas as pd # Библиотека для работы с данными\n",
    "from sklearn.linear_model import LogisticRegression # Модель обучения: логистическая регрессия\n",
    "from sklearn.model_selection import train_test_split # разделитель данных для обучения модели\n",
    "from sklearn.metrics import accuracy_score # подсчет эффективности модели\n",
    "import os # библиотека для работы с операционной системой\n",
    "import plotly.express as px # Инструмент для работы с интерактивными графиками\n",
    "from binary_list import BinaryList # библиотека для работы со списком бинарных сигнатур файлов\n",
    "from utilities import read_file # Функция read_file считает содержимое файла по указанному ей пути\n",
    "from utilities import count_bits_in_file # Функция подсчета бит = 1 и бит = 1 идущих подряд с конца файла\n",
    "from utilities import data_for_analysis # Фнкция преобразования данных в формат для анализа\n",
    "from utilities import MakeScatter # инструмент создания интерактивного графика"
   ]
  },
  {
   "cell_type": "markdown",
   "id": "2bb9ba57-cdf7-459f-b4e1-eaab59bb6498",
   "metadata": {},
   "source": [
    "Для начала посмотрим на список файлов и директорий с которыми нам предстоит работать"
   ]
  },
  {
   "cell_type": "code",
   "execution_count": null,
   "id": "8e257add-d240-47f4-bf08-13b87fc5b61b",
   "metadata": {},
   "outputs": [],
   "source": [
    "import subprocess\n",
    "# Выполнение команды tree и захват вывода\n",
    "result = subprocess.run(['tree', '/f', '/a', 'AdaptiveAntivirus'], stdout=subprocess.PIPE, text=True, shell=True)\n",
    "# Печать результатов\n",
    "print(result.stdout)"
   ]
  },
  {
   "cell_type": "markdown",
   "id": "95a6f4a4-2161-4c66-b419-5ffa021758b0",
   "metadata": {},
   "source": [
    "#### Указание/сборка путей к файлам"
   ]
  },
  {
   "cell_type": "code",
   "execution_count": null,
   "id": "29c87de0-720f-40d9-9c72-d2d1cfa3b5e8",
   "metadata": {},
   "outputs": [],
   "source": [
    "normal_files_dir = os.path.join(\"AdaptiveAntivirus\", \"normal_files\") # путь к обычным файлам сохраним в переменную normal_files_dir\n",
    "virus_files_dir = os.path.join(\"AdaptiveAntivirus\", \"viruses\") # путь к файлам в которых точно известно что есть вирус сохраним\n",
    "# в переменную virus_files_dir\n",
    "suspect_files_dir = os.path.join(\"AdaptiveAntivirus\", \"suspects\") # путь к файлам в которых подозревается наличие вируса"
   ]
  },
  {
   "cell_type": "code",
   "execution_count": null,
   "id": "66a3e74c-cdd9-4769-b740-bb82cb5ba339",
   "metadata": {},
   "outputs": [],
   "source": [
    "normal_files_dir # посмотрим путь к директории с обычными файлами"
   ]
  },
  {
   "cell_type": "code",
   "execution_count": null,
   "id": "85483129-12b1-4ce3-9932-0c22eac11ac5",
   "metadata": {},
   "outputs": [],
   "source": [
    "virus_files_dir # посмотрим путь к директории с точно вирусными файлами"
   ]
  },
  {
   "cell_type": "code",
   "execution_count": null,
   "id": "c00ab8ba-db6a-4ee7-a995-c20c8810b7e9",
   "metadata": {},
   "outputs": [],
   "source": [
    "os.listdir(normal_files_dir) # покажет список всех файлов в директории с обычными файлами normal_files_dir"
   ]
  },
  {
   "cell_type": "markdown",
   "id": "14969aae-5636-4992-bf1b-2dac0f41d8e8",
   "metadata": {},
   "source": [
    "### Шаг 2: Создаем списки сигнатур нормальных файлов, вирусных файлов и подозрительных файлов\n",
    "#### Создаём список сигнатур нормальных файлов"
   ]
  },
  {
   "cell_type": "code",
   "execution_count": null,
   "id": "2f316338-134a-494d-8751-dd66f9ec1ea6",
   "metadata": {},
   "outputs": [],
   "source": [
    "normal_files = [os.path.join(normal_files_dir, f) for f in os.listdir(normal_files_dir)] # сохраняем список относительных путей\n",
    "# файлов os.listdir(normal_files_dir) в переменную normal_files\n",
    "normal_data = BinaryList([read_file(f) for f in normal_files]) # сохраняем в переменную normal_data содержимое каждого файла\n",
    "# директории normal_files_dir"
   ]
  },
  {
   "cell_type": "code",
   "execution_count": null,
   "id": "9b47359e-e1de-44b6-99d1-b010ffee60b8",
   "metadata": {},
   "outputs": [],
   "source": [
    "normal_data # посмотрим бинарные сигнатуры первых 5 файлов директории normal_files_dir"
   ]
  },
  {
   "cell_type": "markdown",
   "id": "903205e8-e367-421c-b8dc-a95785b01c31",
   "metadata": {},
   "source": [
    "#### Создаём список сигнатур вирусных файлов"
   ]
  },
  {
   "cell_type": "code",
   "execution_count": null,
   "id": "3b670530-cf4c-41a9-9473-816eab16390e",
   "metadata": {},
   "outputs": [],
   "source": [
    "virus_files = [os.path.join(virus_files_dir, f) for f in os.listdir(virus_files_dir)]\n",
    "virus_data = BinaryList([read_file(f) for f in virus_files]) # сохраняем в переменную virus_data сигнатуры вирусных файлов"
   ]
  },
  {
   "cell_type": "code",
   "execution_count": null,
   "id": "6749f90c-1f51-4e31-8469-4fad6dbd8201",
   "metadata": {},
   "outputs": [],
   "source": [
    "virus_data # посмотрим на получившееся сигнатуры"
   ]
  },
  {
   "cell_type": "markdown",
   "id": "a98ebb38-3ce5-404b-852f-fd3bedea72f9",
   "metadata": {},
   "source": [
    "**Обратите внимание** на то как отличаются сигнатуры вирусных файлов и обычных файлов"
   ]
  },
  {
   "cell_type": "markdown",
   "id": "1b1b2116-25d8-4fac-a576-69251396a5ac",
   "metadata": {},
   "source": [
    "#### Создаём список сигнатур подозрительных файлов"
   ]
  },
  {
   "cell_type": "code",
   "execution_count": null,
   "id": "334975af-efb1-4871-90d6-6f4334f2f3d0",
   "metadata": {},
   "outputs": [],
   "source": [
    "suspect_files = [os.path.join(suspect_files_dir, f) for f in os.listdir(suspect_files_dir)]\n",
    "suspect_data = BinaryList([read_file(f) for f in suspect_files]) # сохраняем в переменную virus_data сигнатуры вирусных файлов"
   ]
  },
  {
   "cell_type": "code",
   "execution_count": null,
   "id": "0a85aaec-ae5e-4129-9381-ac5b8d9287a2",
   "metadata": {},
   "outputs": [],
   "source": [
    "suspect_data # посмотрим на получившееся сигнатуры"
   ]
  },
  {
   "cell_type": "markdown",
   "id": "b0e3bfe1-f336-42f2-915c-49ffdc7eb70e",
   "metadata": {},
   "source": [
    "### Шаг 3: Анализируем данные графически."
   ]
  },
  {
   "cell_type": "markdown",
   "id": "018de131-82ab-477b-882f-6a32c95c7aea",
   "metadata": {},
   "source": [
    "#### Комбинируем сигнатуры нормальных, вирусных файлов и подозрительных"
   ]
  },
  {
   "cell_type": "code",
   "execution_count": null,
   "id": "7932bdd4-3bd1-4fd0-83f2-cc91eb3637d2",
   "metadata": {},
   "outputs": [],
   "source": [
    "data = normal_data + virus_data + suspect_data\n",
    "labels =[0] * len(normal_data) + [1] * len(virus_data) + [2]*len(suspect_data) # создаем разметку, где 0 это не вирус, а 1 это вирус, 2 - подозрительный"
   ]
  },
  {
   "cell_type": "code",
   "execution_count": null,
   "id": "51ccd039-c24e-49c1-bcb9-65ca33554475",
   "metadata": {},
   "outputs": [],
   "source": [
    "BinaryList(data[:5]), BinaryList(data[-5:]) # Прверяем сформированный список: первые 5 и последниые 5 сигнатур"
   ]
  },
  {
   "cell_type": "code",
   "execution_count": null,
   "id": "72450e18-f2a8-45d9-835c-530e84a8ef5c",
   "metadata": {},
   "outputs": [],
   "source": [
    "print(*labels) # псомотрим на разметку. Первыми идут нормальные файлы далее шесть считаем вирусами и 3 последних подозрительными"
   ]
  },
  {
   "cell_type": "code",
   "execution_count": null,
   "id": "b43cdda8-bd51-4513-9562-7aafb889520d",
   "metadata": {},
   "outputs": [],
   "source": [
    "data_for_analysis(data) # посмотрим на преобразование сигнатуры в числа."
   ]
  },
  {
   "cell_type": "markdown",
   "id": "bd923167-eb2e-4783-a5b5-3a9d9baa7f97",
   "metadata": {},
   "source": [
    "**Посмотрите на получившиеся числа** \n",
    "Возьмем для примера первый файл (afdsl.bak) bits: 1110010000001001 и первый файл вируса bits: 0000001111111111\n",
    "\n",
    "``[6, 1, 0]`` 6 - это то, сколько всего бит = 1; 1 - сколько подряд идущих бит = 1 с конца сигнатуры bits: **111**00**1**000000**1**00**1**\n",
    "\n",
    "``[10, 10, 6]``  6 - это то, сколько всего бит = 0 с начала сигнатуры bits: **000000**1111111111"
   ]
  },
  {
   "cell_type": "code",
   "execution_count": null,
   "id": "947079d9-86f0-4136-96a0-d93b11b9718c",
   "metadata": {},
   "outputs": [],
   "source": [
    "features = np.array(data_for_analysis(data)) # сохраним в переменную features преобразованные сигнатуры"
   ]
  },
  {
   "cell_type": "code",
   "execution_count": null,
   "id": "b8e7c3de-bed9-4b0e-8fed-d5582c239e39",
   "metadata": {},
   "outputs": [],
   "source": [
    "scatter_plot = MakeScatter(features, labels)\n",
    "scatter_plot.show()"
   ]
  },
  {
   "cell_type": "markdown",
   "id": "c1131c1f-137f-43c0-ad75-da3a2ae02b54",
   "metadata": {},
   "source": [
    "Обратите внимание на то, как расположились подозрительные файлы, нормальные файлы и вирусные файлы. **Тут явно есть некоторая закономерность**\n",
    "\n",
    "Теперь нам нужно обучить модель и посмотреть поймет ли она что такое подозрительные файлы. Обучать будем только на нормальных и вирусных файлах"
   ]
  },
  {
   "cell_type": "markdown",
   "id": "dd1872af-bc4d-47cb-bf65-97d70deb9222",
   "metadata": {},
   "source": [
    "### Шаг 4: Тренируем модель"
   ]
  },
  {
   "cell_type": "markdown",
   "id": "203263ae-c25a-40a7-b0d9-add4ceffe29c",
   "metadata": {},
   "source": [
    "Используем только нормальные файлы и вирусные"
   ]
  },
  {
   "cell_type": "code",
   "execution_count": null,
   "id": "9ff592c8-0758-47ee-aa82-a4756b1745f6",
   "metadata": {},
   "outputs": [],
   "source": [
    "data = normal_data + virus_data\n",
    "labels =[0] * len(normal_data) + [1] * len(virus_data) # создаем разметку, где 0 это не вирус, а 1 это вирус"
   ]
  },
  {
   "cell_type": "markdown",
   "id": "0c7605f4-c655-4b04-b0b5-8c938ce9dd43",
   "metadata": {},
   "source": [
    "#### Создадим модель и обучим её"
   ]
  },
  {
   "cell_type": "code",
   "execution_count": null,
   "id": "dfcbacd2-9c66-49a2-aeb4-9cc1a18e7f34",
   "metadata": {},
   "outputs": [],
   "source": [
    "X = np.array(data_for_analysis(data)) # анализируемые параметры\n",
    "y = np.array(labels) # метки параметров: вирус, не вирус\n",
    "# Разделение данных на обучающую и тестовую выборку\n",
    "X_train, X_test, y_train, y_test = train_test_split(X, y, test_size=0.2, random_state=42)\n",
    "\n",
    "# Создание и обучение модели\n",
    "model = LogisticRegression()\n",
    "model.fit(X_train, y_train)\n",
    "\n",
    "# Предсказание на тестовых данных\n",
    "y_pred = model.predict(X_test)\n",
    "\n",
    "# Оценка точности\n",
    "accuracy = accuracy_score(y_test, y_pred)\n",
    "print('Точность модели:', accuracy)"
   ]
  },
  {
   "cell_type": "markdown",
   "id": "64e27e35-c8ad-4b4b-95f6-f6e6b493780d",
   "metadata": {},
   "source": [
    "### Шаг 5: Исследуем файлы приходящие в нашу сеть"
   ]
  },
  {
   "cell_type": "markdown",
   "id": "cd9d21b4-ecff-4c56-b407-737dbd367eae",
   "metadata": {},
   "source": [
    "В директории AdaptiveAntivirus, есть каталог _**internet_files**_ в нем есть несколько файлов:"
   ]
  },
  {
   "cell_type": "code",
   "execution_count": null,
   "id": "c9ced095-f8d5-4436-9f24-c73ad353b2d7",
   "metadata": {},
   "outputs": [],
   "source": [
    "# Посмотрите на список файлов\n",
    "#Получим относительный путь к директории\n",
    "file_ащу_analysis =  os.path.join(\"AdaptiveAntivirus\", \"<тут имя директории в которой лежат файлы>\")"
   ]
  },
  {
   "cell_type": "code",
   "execution_count": null,
   "id": "70e17807-e5e4-4d28-aaac-d43763372be2",
   "metadata": {},
   "outputs": [],
   "source": [
    "file_ащу_analysis #посмотрим на него"
   ]
  },
  {
   "cell_type": "code",
   "execution_count": null,
   "id": "79e0690d-0292-4c72-ba32-5746cc29fdc0",
   "metadata": {},
   "outputs": [],
   "source": [
    "os.listdir(file_for_analysis) # посмотрим на список файлов"
   ]
  },
  {
   "cell_type": "code",
   "execution_count": null,
   "id": "c8121630-8684-4bba-9b08-36d5da6e3722",
   "metadata": {},
   "outputs": [],
   "source": [
    "list_file_for_analysis = [os.path.join(<тут имя переменной с путем до файлов>, f) for f in os.listdir(<тут имя переменной с путем до файлов>)]\n",
    "data_file_for_analysis = BinaryList([read_file(f) for f in list_file_for_analysis]) # сохраняем в переменную data_file_for_analysis\n",
    "#сигнатуры файлов из каталога file_for_analysis"
   ]
  },
  {
   "cell_type": "code",
   "execution_count": null,
   "id": "efc3629b-f270-494e-a974-c457d6e900b6",
   "metadata": {},
   "outputs": [],
   "source": [
    "data_file_for_analysis # посмотрим на сигнатуры"
   ]
  },
  {
   "cell_type": "code",
   "execution_count": null,
   "id": "5d7101e3-acb6-4725-b48e-9ca9ea87a1c7",
   "metadata": {},
   "outputs": [],
   "source": [
    "model.predict(np.array(data_for_analysis(<имя переменной с сигнатурами фалов>))) #запустим анализ через натренерованную мродель"
   ]
  },
  {
   "cell_type": "markdown",
   "id": "6a04db8a-aad9-4d61-b82b-e97778d65765",
   "metadata": {},
   "source": [
    "Оцените полученный результат, согласны ли вы с результатом модели?"
   ]
  },
  {
   "cell_type": "markdown",
   "id": "7273a7d7-2d33-41d2-87ea-2ba647453bbc",
   "metadata": {},
   "source": [
    "Создайте интерактивный график и посмотрите на результат ответа модели. Действительно ли группы отметок на графике не перемешиваются?"
   ]
  },
  {
   "cell_type": "code",
   "execution_count": null,
   "id": "af31dda0-bb15-4f7e-a554-b940ac0f1ad9",
   "metadata": {},
   "outputs": [],
   "source": [
    "data_to_plot = np.array(data_for_analysis(<имя переменной с сигнатурами фалов>))\n",
    "label_to_plot = model.predict(data_to_plot)\n",
    "scatter_plot = MakeScatter(data_to_plot, label_to_plot) # создать \"скатерть\", нанеся на него по координатам значения соответсвующие файлам\n",
    "scatter_plot.show() # показать \"скатерть\"/график"
   ]
  },
  {
   "cell_type": "code",
   "execution_count": null,
   "id": "b5563b84-d113-4245-929b-e954b3a86096",
   "metadata": {},
   "outputs": [],
   "source": []
  }
 ],
 "metadata": {
  "kernelspec": {
   "display_name": "Python 3 (ipykernel)",
   "language": "python",
   "name": "python3"
  },
  "language_info": {
   "codemirror_mode": {
    "name": "ipython",
    "version": 3
   },
   "file_extension": ".py",
   "mimetype": "text/x-python",
   "name": "python",
   "nbconvert_exporter": "python",
   "pygments_lexer": "ipython3",
   "version": "3.11.5"
  }
 },
 "nbformat": 4,
 "nbformat_minor": 5
}
